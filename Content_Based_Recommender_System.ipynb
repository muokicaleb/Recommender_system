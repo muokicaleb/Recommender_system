{
  "nbformat": 4,
  "nbformat_minor": 0,
  "metadata": {
    "colab": {
      "name": "Content_Based_Recommender_System.ipynb",
      "version": "0.3.2",
      "provenance": []
    },
    "kernelspec": {
      "display_name": "Python 3",
      "language": "python",
      "name": "python3"
    }
  },
  "cells": [
    {
      "metadata": {
        "id": "WWh5cpXY2WTi",
        "colab_type": "text"
      },
      "cell_type": "markdown",
      "source": [
        "#  Content Based Recommender System\n",
        "<p>We will try to build a system that recommends movies that are similar to a particular movie. More specifically, we will compute pairwise similarity scores for all movies based on their plot descriptions and recommend movies based on that similarity score.</p>"
      ]
    },
    {
      "metadata": {
        "id": "13gCVD1-2YPV",
        "colab_type": "code",
        "colab": {}
      },
      "cell_type": "code",
      "source": [
        "#from google.colab import files\n",
        "#files.upload()"
      ],
      "execution_count": 0,
      "outputs": []
    },
    {
      "metadata": {
        "id": "EeRY_gT32WTo",
        "colab_type": "code",
        "colab": {}
      },
      "cell_type": "code",
      "source": [
        "import pandas as pd\n",
        "from sklearn.feature_extraction.text import TfidfVectorizer\n",
        "from sklearn.metrics.pairwise import linear_kernel"
      ],
      "execution_count": 0,
      "outputs": []
    },
    {
      "metadata": {
        "id": "uh7LtbOk2WT4",
        "colab_type": "code",
        "colab": {
          "base_uri": "https://localhost:8080/",
          "height": 521
        },
        "outputId": "9e2b0c97-9350-44c8-f507-7f2c887edd1f"
      },
      "cell_type": "code",
      "source": [
        "movie_data = pd.read_csv('movies_metadata.csv', low_memory=False)\n",
        "movie_data.info()"
      ],
      "execution_count": 5,
      "outputs": [
        {
          "output_type": "stream",
          "text": [
            "<class 'pandas.core.frame.DataFrame'>\n",
            "RangeIndex: 13959 entries, 0 to 13958\n",
            "Data columns (total 24 columns):\n",
            "adult                    13959 non-null object\n",
            "belongs_to_collection    1876 non-null object\n",
            "budget                   13958 non-null float64\n",
            "genres                   13958 non-null object\n",
            "homepage                 1517 non-null object\n",
            "id                       13958 non-null float64\n",
            "imdb_id                  13955 non-null object\n",
            "original_language        13958 non-null object\n",
            "original_title           13958 non-null object\n",
            "overview                 13912 non-null object\n",
            "popularity               13958 non-null float64\n",
            "poster_path              13917 non-null object\n",
            "production_companies     13958 non-null object\n",
            "production_countries     13958 non-null object\n",
            "release_date             13952 non-null object\n",
            "revenue                  13958 non-null float64\n",
            "runtime                  13948 non-null float64\n",
            "spoken_languages         13958 non-null object\n",
            "status                   13948 non-null object\n",
            "tagline                  9055 non-null object\n",
            "title                    13958 non-null object\n",
            "video                    13958 non-null object\n",
            "vote_average             13958 non-null float64\n",
            "vote_count               13958 non-null float64\n",
            "dtypes: float64(7), object(17)\n",
            "memory usage: 2.6+ MB\n"
          ],
          "name": "stdout"
        }
      ]
    },
    {
      "metadata": {
        "id": "MVISJIHU2WUI",
        "colab_type": "code",
        "colab": {
          "base_uri": "https://localhost:8080/",
          "height": 121
        },
        "outputId": "b1aee89c-da3e-47da-b686-799a5f34fdcb"
      },
      "cell_type": "code",
      "source": [
        "movie_data['overview'].head(5)"
      ],
      "execution_count": 6,
      "outputs": [
        {
          "output_type": "execute_result",
          "data": {
            "text/plain": [
              "0    Led by Woody, Andy's toys live happily in his ...\n",
              "1    When siblings Judy and Peter discover an encha...\n",
              "2    A family wedding reignites the ancient feud be...\n",
              "3    Cheated on, mistreated and stepped on, the wom...\n",
              "4    Just when George Banks has recovered from his ...\n",
              "Name: overview, dtype: object"
            ]
          },
          "metadata": {
            "tags": []
          },
          "execution_count": 6
        }
      ]
    },
    {
      "metadata": {
        "id": "0MRSZypg2WUW",
        "colab_type": "text"
      },
      "cell_type": "markdown",
      "source": [
        "<p>We will compute Term Frequency-Inverse Document Frequency (TF-IDF) vectors for each document. This will give us a matrix where each column represents a word in the overview vocabulary (all the words that appear in at least one document) and each column represents a movie, as before.</p>\n",
        "<p>\n",
        "In its essence, the TF-IDF score is the frequency of a word occurring in a document, down-weighted by the number of documents in which it occurs. This is done to reduce the importance of words that occur frequently in plot overviews and therefore, their significance in computing the final similarity score.</p>"
      ]
    },
    {
      "metadata": {
        "id": "0mkGLPsL2WUZ",
        "colab_type": "text"
      },
      "cell_type": "markdown",
      "source": [
        "<p>The over view contains words such as 'the' , 'a' this are stop words and wouldn't add value to our system. We need to remove them.</p>"
      ]
    },
    {
      "metadata": {
        "id": "PfZMe8Q-2WUb",
        "colab_type": "code",
        "colab": {}
      },
      "cell_type": "code",
      "source": [
        "word_vector = TfidfVectorizer(stop_words='english')"
      ],
      "execution_count": 0,
      "outputs": []
    },
    {
      "metadata": {
        "id": "P7MPfMNK2WUj",
        "colab_type": "text"
      },
      "cell_type": "markdown",
      "source": [
        "<p>Some descriptions are empty we need to fill them with empty string</p>"
      ]
    },
    {
      "metadata": {
        "id": "PQZBtDhc2WUl",
        "colab_type": "code",
        "colab": {}
      },
      "cell_type": "code",
      "source": [
        "movie_data['overview'] = movie_data['overview'].fillna('')"
      ],
      "execution_count": 0,
      "outputs": []
    },
    {
      "metadata": {
        "id": "rXQFo4R32WUu",
        "colab_type": "text"
      },
      "cell_type": "markdown",
      "source": [
        "<p>We need to form a matrix.</p>"
      ]
    },
    {
      "metadata": {
        "id": "GxRdzMZ02WU0",
        "colab_type": "code",
        "colab": {
          "base_uri": "https://localhost:8080/",
          "height": 34
        },
        "outputId": "c9d013bc-b64d-4ae9-a36a-7781491a3bfa"
      },
      "cell_type": "code",
      "source": [
        "word_matrix = word_vector.fit_transform(movie_data['overview'])\n",
        "word_matrix.shape"
      ],
      "execution_count": 9,
      "outputs": [
        {
          "output_type": "execute_result",
          "data": {
            "text/plain": [
              "(13959, 38602)"
            ]
          },
          "metadata": {
            "tags": []
          },
          "execution_count": 9
        }
      ]
    },
    {
      "metadata": {
        "id": "pTrlAdVJ2WVA",
        "colab_type": "text"
      },
      "cell_type": "markdown",
      "source": [
        "<p>From the shape we can see that there are 75827 words used to describe 45466 movies.<br/>From the matrix we can compute a similarity score. we will be using the cosine similarity to calculate a numeric quantity that denotes the similarity between two movies.  cosine similarity score is independent of magnitude and is relatively easy and fast to calculate. </p>\n",
        "<p>It is represented by:<br/>\n",
        "    cosine(x,y)=x.y⊺/(||x||.||y||)\n",
        "    \n",
        "</p>"
      ]
    },
    {
      "metadata": {
        "id": "UJprL_Vm2WVC",
        "colab_type": "code",
        "colab": {}
      },
      "cell_type": "code",
      "source": [
        "cosine_similarity = linear_kernel(word_matrix, word_matrix)"
      ],
      "execution_count": 0,
      "outputs": []
    },
    {
      "metadata": {
        "id": "qui-ZQO34YlE",
        "colab_type": "text"
      },
      "cell_type": "markdown",
      "source": [
        ""
      ]
    },
    {
      "metadata": {
        "id": "T4zDKbb62WVc",
        "colab_type": "code",
        "colab": {}
      },
      "cell_type": "code",
      "source": [
        "indices = pd.Series(movie_data.index, index=movie_data['title']).drop_duplicates()"
      ],
      "execution_count": 0,
      "outputs": []
    },
    {
      "metadata": {
        "id": "E47G4_qD4tLE",
        "colab_type": "code",
        "colab": {}
      },
      "cell_type": "code",
      "source": [
        "def get_recommendations(title, cosine_siimilarity=cosine_similarity):\n",
        "    # index of the movie that matches the title\n",
        "    movie_index = indices[title]\n",
        "\n",
        "    #pairwsie similarity scores of all movies with that movie\n",
        "    similarity_scores = list(enumerate(cosine_similarity[movie_index]))\n",
        "\n",
        "    # Sort the movies based on the similarity scores\n",
        "    similarity_scores = sorted(similarity_scores, key=lambda x: x[1], reverse=True)\n",
        "\n",
        "    # Get the scores of the 10 most similar movies\n",
        "    similarity_scores = similarity_scores[1:11]\n",
        "\n",
        "    # Get the movie indices\n",
        "    movie_indices = [i[0] for i in similarity_scores]\n",
        "\n",
        "    # Return the top 10 most similar movies\n",
        "    return movie_data['title'].iloc[movie_indices]"
      ],
      "execution_count": 0,
      "outputs": []
    },
    {
      "metadata": {
        "id": "TDaj_1Zd5iZR",
        "colab_type": "code",
        "colab": {
          "base_uri": "https://localhost:8080/",
          "height": 208
        },
        "outputId": "b4e73941-fa3e-4657-ace8-81f8673de1b4"
      },
      "cell_type": "code",
      "source": [
        "get_recommendations('The Godfather')"
      ],
      "execution_count": 16,
      "outputs": [
        {
          "output_type": "execute_result",
          "data": {
            "text/plain": [
              "1178      The Godfather: Part II\n",
              "1914     The Godfather: Part III\n",
              "11297           Household Saints\n",
              "10821                   Election\n",
              "8653                Violent City\n",
              "13177               I Am the Law\n",
              "6711                    Mobsters\n",
              "6977             Queen of Hearts\n",
              "2891              American Movie\n",
              "12661              The FBI Story\n",
              "Name: title, dtype: object"
            ]
          },
          "metadata": {
            "tags": []
          },
          "execution_count": 16
        }
      ]
    },
    {
      "metadata": {
        "id": "s1hpjv124Xw0",
        "colab_type": "text"
      },
      "cell_type": "markdown",
      "source": [
        ""
      ]
    }
  ]
}