{
 "cells": [
  {
   "cell_type": "markdown",
   "metadata": {},
   "source": [
    "# Simple Recommender\n",
    "<p>Simple recommenders are basic systems that recommends the top items based on a certain metric or score. We will build a simplified clone of IMDB Top 250 Movies using <a href=\"https://www.kaggle.com/rounakbanik/the-movies-dataset/version/7\"> metadata</a> collected from IMDB.</p>\n",
    "<p>we will:\n",
    "<ul>\n",
    "    <li>Decide on the metric or score to rate movies on.</li>\n",
    "    <li>Calculate the score for every movie.</li>\n",
    "    <li>Sort the movies based on the score and output the top results.</li>\n",
    "</ul>\n",
    "</p>"
   ]
  },
  {
   "cell_type": "markdown",
   "metadata": {},
   "source": [
    "<h5>Loading the data.</h5>"
   ]
  },
  {
   "cell_type": "code",
   "execution_count": null,
   "metadata": {},
   "outputs": [],
   "source": []
  }
 ],
 "metadata": {
  "kernelspec": {
   "display_name": "Python 3",
   "language": "python",
   "name": "python3"
  },
  "language_info": {
   "codemirror_mode": {
    "name": "ipython",
    "version": 3
   },
   "file_extension": ".py",
   "mimetype": "text/x-python",
   "name": "python",
   "nbconvert_exporter": "python",
   "pygments_lexer": "ipython3",
   "version": "3.6.5"
  }
 },
 "nbformat": 4,
 "nbformat_minor": 2
}
